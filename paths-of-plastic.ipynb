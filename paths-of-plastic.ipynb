{
 "cells": [
  {
   "cell_type": "markdown",
   "metadata": {},
   "source": [
    "# Paths of plastic"
   ]
  },
  {
   "cell_type": "markdown",
   "metadata": {},
   "source": [
    "### EU packaging waste \n",
    "\n",
    "https://ec.europa.eu/eurostat/statistics-explained/index.php?title=Packaging_waste_statistics\n",
    "\n",
    "Data: \n",
    "- https://ec.europa.eu/eurostat/web/environment/waste/database\n",
    "\n",
    "- http://appsso.eurostat.ec.europa.eu/nui/submitViewTableAction.do\n",
    "\n",
    "- https://github.com/dw-data/quantify-europe_plastic-packaging-waste\n"
   ]
  },
  {
   "cell_type": "code",
   "execution_count": 9,
   "metadata": {},
   "outputs": [],
   "source": [
    "import pandas as pd"
   ]
  },
  {
   "cell_type": "code",
   "execution_count": 6,
   "metadata": {},
   "outputs": [],
   "source": [
    "eu_waste_generated = pd.read_csv('./env_waspac/env_waspac_1_Data.csv')"
   ]
  },
  {
   "cell_type": "code",
   "execution_count": 8,
   "metadata": {},
   "outputs": [
    {
     "data": {
      "text/html": [
       "<div>\n",
       "<style scoped>\n",
       "    .dataframe tbody tr th:only-of-type {\n",
       "        vertical-align: middle;\n",
       "    }\n",
       "\n",
       "    .dataframe tbody tr th {\n",
       "        vertical-align: top;\n",
       "    }\n",
       "\n",
       "    .dataframe thead th {\n",
       "        text-align: right;\n",
       "    }\n",
       "</style>\n",
       "<table border=\"1\" class=\"dataframe\">\n",
       "  <thead>\n",
       "    <tr style=\"text-align: right;\">\n",
       "      <th></th>\n",
       "      <th>TIME</th>\n",
       "      <th>GEO</th>\n",
       "      <th>WASTE</th>\n",
       "      <th>STK_FLOW</th>\n",
       "      <th>WST_OPER</th>\n",
       "      <th>UNIT</th>\n",
       "      <th>Value</th>\n",
       "    </tr>\n",
       "  </thead>\n",
       "  <tbody>\n",
       "    <tr>\n",
       "      <th>635</th>\n",
       "      <td>2016</td>\n",
       "      <td>Iceland</td>\n",
       "      <td>Plastic packaging</td>\n",
       "      <td>Domestic</td>\n",
       "      <td>Recovery</td>\n",
       "      <td>Tonne</td>\n",
       "      <td>7 077</td>\n",
       "    </tr>\n",
       "    <tr>\n",
       "      <th>636</th>\n",
       "      <td>2016</td>\n",
       "      <td>Liechtenstein</td>\n",
       "      <td>Plastic packaging</td>\n",
       "      <td>Domestic</td>\n",
       "      <td>Waste generated</td>\n",
       "      <td>Tonne</td>\n",
       "      <td>803</td>\n",
       "    </tr>\n",
       "    <tr>\n",
       "      <th>637</th>\n",
       "      <td>2016</td>\n",
       "      <td>Liechtenstein</td>\n",
       "      <td>Plastic packaging</td>\n",
       "      <td>Domestic</td>\n",
       "      <td>Recovery</td>\n",
       "      <td>Tonne</td>\n",
       "      <td>803</td>\n",
       "    </tr>\n",
       "    <tr>\n",
       "      <th>638</th>\n",
       "      <td>2016</td>\n",
       "      <td>Norway</td>\n",
       "      <td>Plastic packaging</td>\n",
       "      <td>Domestic</td>\n",
       "      <td>Waste generated</td>\n",
       "      <td>Tonne</td>\n",
       "      <td>206 132</td>\n",
       "    </tr>\n",
       "    <tr>\n",
       "      <th>639</th>\n",
       "      <td>2016</td>\n",
       "      <td>Norway</td>\n",
       "      <td>Plastic packaging</td>\n",
       "      <td>Domestic</td>\n",
       "      <td>Recovery</td>\n",
       "      <td>Tonne</td>\n",
       "      <td>204 662</td>\n",
       "    </tr>\n",
       "  </tbody>\n",
       "</table>\n",
       "</div>"
      ],
      "text/plain": [
       "     TIME            GEO              WASTE  STK_FLOW         WST_OPER   UNIT  \\\n",
       "635  2016        Iceland  Plastic packaging  Domestic         Recovery  Tonne   \n",
       "636  2016  Liechtenstein  Plastic packaging  Domestic  Waste generated  Tonne   \n",
       "637  2016  Liechtenstein  Plastic packaging  Domestic         Recovery  Tonne   \n",
       "638  2016         Norway  Plastic packaging  Domestic  Waste generated  Tonne   \n",
       "639  2016         Norway  Plastic packaging  Domestic         Recovery  Tonne   \n",
       "\n",
       "       Value  \n",
       "635    7 077  \n",
       "636      803  \n",
       "637      803  \n",
       "638  206 132  \n",
       "639  204 662  "
      ]
     },
     "execution_count": 8,
     "metadata": {},
     "output_type": "execute_result"
    }
   ],
   "source": [
    "eu_waste_generated.tail()"
   ]
  },
  {
   "cell_type": "code",
   "execution_count": null,
   "metadata": {},
   "outputs": [],
   "source": []
  }
 ],
 "metadata": {
  "kernelspec": {
   "display_name": "Python 3",
   "language": "python",
   "name": "python3"
  },
  "language_info": {
   "codemirror_mode": {
    "name": "ipython",
    "version": 3
   },
   "file_extension": ".py",
   "mimetype": "text/x-python",
   "name": "python",
   "nbconvert_exporter": "python",
   "pygments_lexer": "ipython3",
   "version": "3.6.7"
  }
 },
 "nbformat": 4,
 "nbformat_minor": 2
}
